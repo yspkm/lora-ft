{
 "cells": [
  {
   "cell_type": "code",
   "execution_count": 1,
   "metadata": {},
   "outputs": [],
   "source": [
    "import torch\n",
    "import torch.nn as nn\n",
    "import torch.nn.functional as F"
   ]
  },
  {
   "cell_type": "code",
   "execution_count": 2,
   "metadata": {},
   "outputs": [],
   "source": [
    "class WeightedSum(nn.Module):\n",
    "    def __init__(self, num_tensors, tensor_shape):\n",
    "        super(WeightedSum, self).__init__()\n",
    "        self.num_tensors = num_tensors\n",
    "        self.tensor_shape = tensor_shape\n",
    "        self.weights = nn.Parameter(torch.randn(num_tensors))\n",
    "        nn.init.xavier_uniform_(self.weights.unsqueeze(0))\n",
    "\n",
    "    def forward(self, *tensors):\n",
    "        assert len(tensors) == self.num_tensors, \"Number of input tensors must match num_tensors\"\n",
    "        weights = F.softmax(self.weights, dim=0)\n",
    "        weighted_sum = sum(w * t for w, t in zip(weights, tensors))\n",
    "        return weighted_sum"
   ]
  },
  {
   "cell_type": "code",
   "execution_count": 3,
   "metadata": {},
   "outputs": [
    {
     "name": "stdout",
     "output_type": "stream",
     "text": [
      "torch.Size([4, 5, 6])\n"
     ]
    }
   ],
   "source": [
    "B, T, D = 4, 5, 6  \n",
    "num_tensors = 3    \n",
    "\n",
    "model = WeightedSum(num_tensors=num_tensors, tensor_shape=(B, T, D))\n",
    "\n",
    "tensors = [torch.randn(B, T, D) for _ in range(num_tensors)]\n",
    "\n",
    "output = model(*tensors)\n",
    "print(output.shape)  # -> (B, T, D)"
   ]
  },
  {
   "cell_type": "code",
   "execution_count": null,
   "metadata": {},
   "outputs": [],
   "source": []
  }
 ],
 "metadata": {
  "kernelspec": {
   "display_name": ".venv",
   "language": "python",
   "name": "python3"
  },
  "language_info": {
   "codemirror_mode": {
    "name": "ipython",
    "version": 3
   },
   "file_extension": ".py",
   "mimetype": "text/x-python",
   "name": "python",
   "nbconvert_exporter": "python",
   "pygments_lexer": "ipython3",
   "version": "3.10.12"
  }
 },
 "nbformat": 4,
 "nbformat_minor": 2
}
