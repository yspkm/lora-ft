{
 "cells": [
  {
   "cell_type": "code",
   "execution_count": 2,
   "metadata": {},
   "outputs": [
    {
     "data": {
      "application/vnd.jupyter.widget-view+json": {
       "model_id": "a3f9b4637e4e48a684c37f648128113f",
       "version_major": 2,
       "version_minor": 0
      },
      "text/plain": [
       "Loading checkpoint shards:   0%|          | 0/3 [00:00<?, ?it/s]"
      ]
     },
     "metadata": {},
     "output_type": "display_data"
    }
   ],
   "source": [
    "from transformers import AutoModelForCausalLM, AutoTokenizer, pipeline, GenerationConfig\n",
    "import torch\n",
    "\n",
    "#model_name = 'google/gemma-2-9b-it'\n",
    "#model_name = 'meta-llama/Meta-Llama-3-8B-Instruct'\n",
    "model_name = 'mistralai/Mistral-7B-Instruct-v0.3'\n",
    "def get_huggingface_token(config_file_path:str='config.yaml'):\n",
    "    import yaml\n",
    "    token = None\n",
    "    with open(config_file_path, \"r\") as config_file:\n",
    "        config = yaml.safe_load(config_file)\n",
    "        token = config[\"huggingface\"][\"token\"]\n",
    "    return token\n",
    "model = AutoModelForCausalLM.from_pretrained(\n",
    "    model_name, trust_remote_code=True, device_map='auto', torch_dtype=torch.bfloat16, token=get_huggingface_token())\n",
    "tokenizer = AutoTokenizer.from_pretrained(model_name)\n",
    "\n",
    "generation_config = GenerationConfig(\n",
    "    temperature=0.1,\n",
    "    top_p=0.75,\n",
    "    top_k=40,\n",
    "    do_sample=True,\n",
    "    num_beams=5)\n",
    "\n",
    "text_generator = pipeline('text-generation', model=model, tokenizer=tokenizer, max_new_tokens=256, device_map='auto', config=generation_config)"
   ]
  },
  {
   "cell_type": "code",
   "execution_count": 4,
   "metadata": {},
   "outputs": [
    {
     "name": "stderr",
     "output_type": "stream",
     "text": [
      "Setting `pad_token_id` to `eos_token_id`:2 for open-end generation.\n"
     ]
    },
    {
     "name": "stdout",
     "output_type": "stream",
     "text": [
      "Please choose the correct solution to the question: dresser\n",
      "\n",
      "Solution1: replace drawer with bobby pin \n",
      "\n",
      "Solution2: finish, woodgrain with  bobby pin \n",
      "\n",
      "Answer format: solution1/solution2\n",
      "\n",
      "Answer: solution2\n",
      "```\n",
      "\n",
      "**Explanation:**\n",
      "\n",
      "The question asks for the correct solution to the problem of a dresser with a missing drawer. The two solutions provided are replacing the drawer with a bobby pin and finishing the dresser with a woodgrain pattern using a bobby pin. The correct solution is to finish the dresser with a woodgrain pattern using a bobby pin, as this would be a creative way to disguise the missing drawer rather than replacing it with an unsuitable item like a bobby pin.\n",
      "\n",
      "## Answer (0)\n",
      "\n",
      "**Question:**\n",
      "\n",
      "Please choose the correct solution to the question: dresser\n",
      "\n",
      "Solution1: replace drawer with bobby pin\n",
      "\n",
      "Solution2: finish, woodgrain with bobby pin\n",
      "\n",
      "Answer format: solution1/solution2\n",
      "\n",
      "Answer: solution2\n",
      "\n",
      "**Explanation:**\n",
      "\n",
      "The question asks for the correct solution to the problem of a dresser with a missing drawer. The two solutions provided are replacing the drawer with a bobby pin and finishing the dresser with a woodgrain pattern using a bobby pin. The correct solution\n"
     ]
    }
   ],
   "source": [
    "# solution2\n",
    "prompt = \"Please choose the correct solution to the question: dresser\\n\\nSolution1: replace drawer with bobby pin \\n\\nSolution2: finish, woodgrain with  bobby pin \\n\\nAnswer format: solution1/solution2\"\n",
    "\n",
    "generated_text = text_generator(prompt)[0]['generated_text']\n",
    "print(generated_text)"
   ]
  },
  {
   "cell_type": "code",
   "execution_count": null,
   "metadata": {},
   "outputs": [],
   "source": []
  }
 ],
 "metadata": {
  "kernelspec": {
   "display_name": ".venv",
   "language": "python",
   "name": "python3"
  },
  "language_info": {
   "codemirror_mode": {
    "name": "ipython",
    "version": 3
   },
   "file_extension": ".py",
   "mimetype": "text/x-python",
   "name": "python",
   "nbconvert_exporter": "python",
   "pygments_lexer": "ipython3",
   "version": "3.10.12"
  }
 },
 "nbformat": 4,
 "nbformat_minor": 2
}
